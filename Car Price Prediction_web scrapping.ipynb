{
 "cells": [
  {
   "cell_type": "code",
   "execution_count": 1,
   "id": "f039f1ae",
   "metadata": {},
   "outputs": [
    {
     "name": "stdout",
     "output_type": "stream",
     "text": [
      "Requirement already satisfied: selenium in c:\\users\\ayushi\\anaconda3\\lib\\site-packages (4.1.0)\n",
      "Requirement already satisfied: urllib3[secure]~=1.26 in c:\\users\\ayushi\\anaconda3\\lib\\site-packages (from selenium) (1.26.4)\n",
      "Requirement already satisfied: trio-websocket~=0.9 in c:\\users\\ayushi\\anaconda3\\lib\\site-packages (from selenium) (0.9.2)\n",
      "Requirement already satisfied: trio~=0.17 in c:\\users\\ayushi\\anaconda3\\lib\\site-packages (from selenium) (0.19.0)\n",
      "Requirement already satisfied: outcome in c:\\users\\ayushi\\anaconda3\\lib\\site-packages (from trio~=0.17->selenium) (1.1.0)\n",
      "Requirement already satisfied: sniffio in c:\\users\\ayushi\\anaconda3\\lib\\site-packages (from trio~=0.17->selenium) (1.2.0)\n",
      "Requirement already satisfied: async-generator>=1.9 in c:\\users\\ayushi\\anaconda3\\lib\\site-packages (from trio~=0.17->selenium) (1.10)\n",
      "Requirement already satisfied: idna in c:\\users\\ayushi\\anaconda3\\lib\\site-packages (from trio~=0.17->selenium) (2.10)\n",
      "Requirement already satisfied: sortedcontainers in c:\\users\\ayushi\\anaconda3\\lib\\site-packages (from trio~=0.17->selenium) (2.3.0)\n",
      "Requirement already satisfied: attrs>=19.2.0 in c:\\users\\ayushi\\anaconda3\\lib\\site-packages (from trio~=0.17->selenium) (20.3.0)\n",
      "Requirement already satisfied: cffi>=1.14 in c:\\users\\ayushi\\anaconda3\\lib\\site-packages (from trio~=0.17->selenium) (1.14.5)\n",
      "Requirement already satisfied: pycparser in c:\\users\\ayushi\\anaconda3\\lib\\site-packages (from cffi>=1.14->trio~=0.17->selenium) (2.20)\n",
      "Requirement already satisfied: wsproto>=0.14 in c:\\users\\ayushi\\anaconda3\\lib\\site-packages (from trio-websocket~=0.9->selenium) (1.0.0)\n",
      "Requirement already satisfied: cryptography>=1.3.4 in c:\\users\\ayushi\\anaconda3\\lib\\site-packages (from urllib3[secure]~=1.26->selenium) (3.4.7)\n",
      "Requirement already satisfied: certifi in c:\\users\\ayushi\\anaconda3\\lib\\site-packages (from urllib3[secure]~=1.26->selenium) (2020.12.5)\n",
      "Requirement already satisfied: pyOpenSSL>=0.14 in c:\\users\\ayushi\\anaconda3\\lib\\site-packages (from urllib3[secure]~=1.26->selenium) (20.0.1)\n",
      "Requirement already satisfied: six>=1.5.2 in c:\\users\\ayushi\\anaconda3\\lib\\site-packages (from pyOpenSSL>=0.14->urllib3[secure]~=1.26->selenium) (1.15.0)\n",
      "Requirement already satisfied: h11<1,>=0.9.0 in c:\\users\\ayushi\\anaconda3\\lib\\site-packages (from wsproto>=0.14->trio-websocket~=0.9->selenium) (0.12.0)\n"
     ]
    }
   ],
   "source": [
    "!pip install selenium\n"
   ]
  },
  {
   "cell_type": "code",
   "execution_count": 6,
   "id": "5c2929b7",
   "metadata": {},
   "outputs": [],
   "source": [
    "import pandas as pd\n",
    "import selenium\n",
    "from selenium import webdriver\n",
    "import time\n",
    "from selenium.common.exceptions import NoSuchElementException\n",
    "import warnings\n",
    "warnings.filterwarnings('ignore')"
   ]
  },
  {
   "cell_type": "code",
   "execution_count": 164,
   "id": "02c3cca4",
   "metadata": {},
   "outputs": [],
   "source": [
    "driver=webdriver.Chrome(r'C:\\Users\\AYUSHI\\Downloads\\chromedriver.exe')"
   ]
  },
  {
   "cell_type": "code",
   "execution_count": 96,
   "id": "45ac9461",
   "metadata": {},
   "outputs": [],
   "source": [
    "driver.get(\"https://www.cardekho.com/used-cars+in+mumbai\")"
   ]
  },
  {
   "cell_type": "code",
   "execution_count": 97,
   "id": "a99001a2",
   "metadata": {},
   "outputs": [],
   "source": [
    "brand_titles=[]\n",
    "Variant=[]\n",
    "Driven_km=[]\n",
    "Fuel=[]\n",
    "Location=[]\n",
    "Price=[]\n",
    "Transmission=[]"
   ]
  },
  {
   "cell_type": "code",
   "execution_count": 142,
   "id": "fe154765",
   "metadata": {},
   "outputs": [
    {
     "data": {
      "text/plain": [
       "3120"
      ]
     },
     "execution_count": 142,
     "metadata": {},
     "output_type": "execute_result"
    }
   ],
   "source": [
    "titles_tags=driver.find_elements_by_xpath('//div[@class=\"gsc_col-xs-7  carsName\"]/a')\n",
    "len(titles_tags)"
   ]
  },
  {
   "cell_type": "code",
   "execution_count": 143,
   "id": "af006e2d",
   "metadata": {},
   "outputs": [],
   "source": [
    "brand_titles=[]\n",
    "for i in titles_tags:\n",
    "    brand_titles.append(i.text)"
   ]
  },
  {
   "cell_type": "code",
   "execution_count": 144,
   "id": "bf00e786",
   "metadata": {},
   "outputs": [
    {
     "data": {
      "text/plain": [
       "3120"
      ]
     },
     "execution_count": 144,
     "metadata": {},
     "output_type": "execute_result"
    }
   ],
   "source": [
    "var=driver.find_elements_by_xpath('//div[@class=\"gsc_col-xs-7  carsName\"]/div[1]')\n",
    "len(var)"
   ]
  },
  {
   "cell_type": "code",
   "execution_count": 145,
   "id": "46cdf004",
   "metadata": {},
   "outputs": [],
   "source": [
    "Variant=[]\n",
    "for i in var:\n",
    "    Variant.append(i.text)"
   ]
  },
  {
   "cell_type": "code",
   "execution_count": 146,
   "id": "985d8e7e",
   "metadata": {},
   "outputs": [
    {
     "data": {
      "text/plain": [
       "3120"
      ]
     },
     "execution_count": 146,
     "metadata": {},
     "output_type": "execute_result"
    }
   ],
   "source": [
    "km=driver.find_elements_by_xpath('//div[@class=\"truncate dotlist\"]/span[1]')\n",
    "len(km)"
   ]
  },
  {
   "cell_type": "code",
   "execution_count": 147,
   "id": "a5df5d9d",
   "metadata": {},
   "outputs": [],
   "source": [
    "Driver_KM=[]\n",
    "for i in km:\n",
    "    Driver_KM.append(i.text)"
   ]
  },
  {
   "cell_type": "code",
   "execution_count": 148,
   "id": "6debeb21",
   "metadata": {},
   "outputs": [
    {
     "data": {
      "text/plain": [
       "3120"
      ]
     },
     "execution_count": 148,
     "metadata": {},
     "output_type": "execute_result"
    }
   ],
   "source": [
    "fuel=driver.find_elements_by_xpath('//div[@class=\"truncate dotlist\"]/span[2]')\n",
    "len(fuel)"
   ]
  },
  {
   "cell_type": "code",
   "execution_count": 149,
   "id": "e8e3c8e8",
   "metadata": {
    "scrolled": true
   },
   "outputs": [],
   "source": [
    "Fuel=[]\n",
    "for i in fuel:\n",
    "    Fuel.append(i.text)"
   ]
  },
  {
   "cell_type": "code",
   "execution_count": 150,
   "id": "17428758",
   "metadata": {},
   "outputs": [
    {
     "data": {
      "text/plain": [
       "3120"
      ]
     },
     "execution_count": 150,
     "metadata": {},
     "output_type": "execute_result"
    }
   ],
   "source": [
    "trans=driver.find_elements_by_xpath('//div[@class=\"truncate dotlist\"]/span[3]')\n",
    "len(trans)"
   ]
  },
  {
   "cell_type": "code",
   "execution_count": 151,
   "id": "67e4caa6",
   "metadata": {
    "scrolled": true
   },
   "outputs": [],
   "source": [
    "Transmission=[]\n",
    "for i in trans:\n",
    "    Transmission.append(i.text)"
   ]
  },
  {
   "cell_type": "code",
   "execution_count": 153,
   "id": "6c3a1cbb",
   "metadata": {},
   "outputs": [
    {
     "data": {
      "text/plain": [
       "3120"
      ]
     },
     "execution_count": 153,
     "metadata": {},
     "output_type": "execute_result"
    }
   ],
   "source": [
    "price=driver.find_elements_by_xpath('//div[@class=\"gsc_col-xs-5 text-right price\"]/span')\n",
    "len(price)"
   ]
  },
  {
   "cell_type": "code",
   "execution_count": 154,
   "id": "5d25f10b",
   "metadata": {},
   "outputs": [],
   "source": [
    "Price=[]\n",
    "for i in price:\n",
    "    Price.append(i.text)"
   ]
  },
  {
   "cell_type": "code",
   "execution_count": 155,
   "id": "d0a9866a",
   "metadata": {},
   "outputs": [
    {
     "data": {
      "text/plain": [
       "(3120, 3120, 3120, 3120, 3120, 3120)"
      ]
     },
     "execution_count": 155,
     "metadata": {},
     "output_type": "execute_result"
    }
   ],
   "source": [
    "len(brand_titles),len(Variant),len(Driver_KM),len(Fuel),len(Transmission),len(Price)"
   ]
  },
  {
   "cell_type": "code",
   "execution_count": 156,
   "id": "1b7514b2",
   "metadata": {},
   "outputs": [
    {
     "data": {
      "text/html": [
       "<div>\n",
       "<style scoped>\n",
       "    .dataframe tbody tr th:only-of-type {\n",
       "        vertical-align: middle;\n",
       "    }\n",
       "\n",
       "    .dataframe tbody tr th {\n",
       "        vertical-align: top;\n",
       "    }\n",
       "\n",
       "    .dataframe thead th {\n",
       "        text-align: right;\n",
       "    }\n",
       "</style>\n",
       "<table border=\"1\" class=\"dataframe\">\n",
       "  <thead>\n",
       "    <tr style=\"text-align: right;\">\n",
       "      <th></th>\n",
       "      <th>brand_titles</th>\n",
       "      <th>Variant</th>\n",
       "      <th>Driver_KM</th>\n",
       "      <th>Fuel</th>\n",
       "      <th>Transmission</th>\n",
       "      <th>Location</th>\n",
       "      <th>Price</th>\n",
       "    </tr>\n",
       "  </thead>\n",
       "  <tbody>\n",
       "    <tr>\n",
       "      <th>0</th>\n",
       "      <td>2020 Tata Altroz</td>\n",
       "      <td>XZ</td>\n",
       "      <td>19,955 kms</td>\n",
       "      <td>Petrol</td>\n",
       "      <td>Manual</td>\n",
       "      <td>Mumbai</td>\n",
       "      <td>7,49,000</td>\n",
       "    </tr>\n",
       "    <tr>\n",
       "      <th>1</th>\n",
       "      <td>2012 Maruti Wagon R</td>\n",
       "      <td>VXI</td>\n",
       "      <td>28,677 kms</td>\n",
       "      <td>Petrol</td>\n",
       "      <td>Manual</td>\n",
       "      <td>Mumbai</td>\n",
       "      <td>2,65,000</td>\n",
       "    </tr>\n",
       "    <tr>\n",
       "      <th>2</th>\n",
       "      <td>2015 Honda Mobilio</td>\n",
       "      <td>V i-VTEC</td>\n",
       "      <td>58,284 kms</td>\n",
       "      <td>Petrol</td>\n",
       "      <td>Manual</td>\n",
       "      <td>Mumbai</td>\n",
       "      <td>5,61,000</td>\n",
       "    </tr>\n",
       "    <tr>\n",
       "      <th>3</th>\n",
       "      <td>2017 Maruti Baleno</td>\n",
       "      <td>1.2 CVT Delta</td>\n",
       "      <td>54,037 kms</td>\n",
       "      <td>Petrol</td>\n",
       "      <td>Automatic</td>\n",
       "      <td>Mumbai</td>\n",
       "      <td>6,55,000</td>\n",
       "    </tr>\n",
       "    <tr>\n",
       "      <th>4</th>\n",
       "      <td>2014 Honda Amaze</td>\n",
       "      <td>S AT i-Vtech</td>\n",
       "      <td>67,108 kms</td>\n",
       "      <td>Petrol</td>\n",
       "      <td>Automatic</td>\n",
       "      <td>Mumbai</td>\n",
       "      <td>4,51,000</td>\n",
       "    </tr>\n",
       "    <tr>\n",
       "      <th>...</th>\n",
       "      <td>...</td>\n",
       "      <td>...</td>\n",
       "      <td>...</td>\n",
       "      <td>...</td>\n",
       "      <td>...</td>\n",
       "      <td>...</td>\n",
       "      <td>...</td>\n",
       "    </tr>\n",
       "    <tr>\n",
       "      <th>3115</th>\n",
       "      <td>2017 Hyundai Creta</td>\n",
       "      <td>1.6 VTVT SX Plus Dual Tone</td>\n",
       "      <td>34,265 kms</td>\n",
       "      <td>Petrol</td>\n",
       "      <td>Manual</td>\n",
       "      <td>Mumbai</td>\n",
       "      <td>10,50,000</td>\n",
       "    </tr>\n",
       "    <tr>\n",
       "      <th>3116</th>\n",
       "      <td>2009 Mercedes-Benz New C-Class</td>\n",
       "      <td>230 Avantgarde</td>\n",
       "      <td>65,000 kms</td>\n",
       "      <td>Petrol</td>\n",
       "      <td>Automatic</td>\n",
       "      <td>Mumbai</td>\n",
       "      <td>7,11,000</td>\n",
       "    </tr>\n",
       "    <tr>\n",
       "      <th>3117</th>\n",
       "      <td>2018 Hyundai Verna</td>\n",
       "      <td>VTVT 1.6 AT SX Plus</td>\n",
       "      <td>41,000 kms</td>\n",
       "      <td>Petrol</td>\n",
       "      <td>Automatic</td>\n",
       "      <td>Mumbai</td>\n",
       "      <td>9,95,000</td>\n",
       "    </tr>\n",
       "    <tr>\n",
       "      <th>3118</th>\n",
       "      <td>2015 Maruti Swift Dzire</td>\n",
       "      <td>LXI</td>\n",
       "      <td>18,623 kms</td>\n",
       "      <td>Petrol</td>\n",
       "      <td>Manual</td>\n",
       "      <td>Mumbai</td>\n",
       "      <td>5,25,000</td>\n",
       "    </tr>\n",
       "    <tr>\n",
       "      <th>3119</th>\n",
       "      <td>2008 Maruti SX4</td>\n",
       "      <td>Zxi BSIII</td>\n",
       "      <td>74,000 kms</td>\n",
       "      <td>Petrol</td>\n",
       "      <td>Manual</td>\n",
       "      <td>Mumbai</td>\n",
       "      <td>1,69,000</td>\n",
       "    </tr>\n",
       "  </tbody>\n",
       "</table>\n",
       "<p>3120 rows × 7 columns</p>\n",
       "</div>"
      ],
      "text/plain": [
       "                        brand_titles                     Variant   Driver_KM  \\\n",
       "0                   2020 Tata Altroz                          XZ  19,955 kms   \n",
       "1                2012 Maruti Wagon R                         VXI  28,677 kms   \n",
       "2                 2015 Honda Mobilio                    V i-VTEC  58,284 kms   \n",
       "3                 2017 Maruti Baleno               1.2 CVT Delta  54,037 kms   \n",
       "4                   2014 Honda Amaze                S AT i-Vtech  67,108 kms   \n",
       "...                              ...                         ...         ...   \n",
       "3115              2017 Hyundai Creta  1.6 VTVT SX Plus Dual Tone  34,265 kms   \n",
       "3116  2009 Mercedes-Benz New C-Class              230 Avantgarde  65,000 kms   \n",
       "3117              2018 Hyundai Verna         VTVT 1.6 AT SX Plus  41,000 kms   \n",
       "3118         2015 Maruti Swift Dzire                         LXI  18,623 kms   \n",
       "3119                 2008 Maruti SX4                   Zxi BSIII  74,000 kms   \n",
       "\n",
       "        Fuel Transmission Location      Price  \n",
       "0     Petrol       Manual   Mumbai   7,49,000  \n",
       "1     Petrol       Manual   Mumbai   2,65,000  \n",
       "2     Petrol       Manual   Mumbai   5,61,000  \n",
       "3     Petrol    Automatic   Mumbai   6,55,000  \n",
       "4     Petrol    Automatic   Mumbai   4,51,000  \n",
       "...      ...          ...      ...        ...  \n",
       "3115  Petrol       Manual   Mumbai  10,50,000  \n",
       "3116  Petrol    Automatic   Mumbai   7,11,000  \n",
       "3117  Petrol    Automatic   Mumbai   9,95,000  \n",
       "3118  Petrol       Manual   Mumbai   5,25,000  \n",
       "3119  Petrol       Manual   Mumbai   1,69,000  \n",
       "\n",
       "[3120 rows x 7 columns]"
      ]
     },
     "execution_count": 156,
     "metadata": {},
     "output_type": "execute_result"
    }
   ],
   "source": [
    "Product1=pd.DataFrame()\n",
    "Product1['brand_titles']= brand_titles\n",
    "Product1['Variant']= Variant\n",
    "Product1['Driver_KM']= Driver_KM\n",
    "Product1['Fuel']= Fuel\n",
    "Product1['Transmission']=Transmission\n",
    "Product1['Location']=\"Mumbai\"\n",
    "Product1['Price']=Price\n",
    "Product1"
   ]
  },
  {
   "cell_type": "code",
   "execution_count": 157,
   "id": "3ce01b2d",
   "metadata": {},
   "outputs": [],
   "source": [
    "Product1.to_csv('Data_Used_Cars.csv',index = False)"
   ]
  },
  {
   "cell_type": "code",
   "execution_count": 165,
   "id": "d1525685",
   "metadata": {},
   "outputs": [],
   "source": [
    "driver.get(\"https://www.cardekho.com/used-cars+in+new-delhi\")"
   ]
  },
  {
   "cell_type": "code",
   "execution_count": 173,
   "id": "ae25cb47",
   "metadata": {},
   "outputs": [
    {
     "data": {
      "text/plain": [
       "1900"
      ]
     },
     "execution_count": 173,
     "metadata": {},
     "output_type": "execute_result"
    }
   ],
   "source": [
    "titles_tags=driver.find_elements_by_xpath('//div[@class=\"gsc_col-xs-7  carsName\"]/a')\n",
    "len(titles_tags)"
   ]
  },
  {
   "cell_type": "code",
   "execution_count": 174,
   "id": "3af51c9a",
   "metadata": {},
   "outputs": [],
   "source": [
    "brand_titles=[]\n",
    "for i in titles_tags:\n",
    "    brand_titles.append(i.text)"
   ]
  },
  {
   "cell_type": "code",
   "execution_count": 175,
   "id": "85d1de50",
   "metadata": {},
   "outputs": [
    {
     "data": {
      "text/plain": [
       "1900"
      ]
     },
     "execution_count": 175,
     "metadata": {},
     "output_type": "execute_result"
    }
   ],
   "source": [
    "var=driver.find_elements_by_xpath('//div[@class=\"gsc_col-xs-7  carsName\"]/div[1]')\n",
    "len(var)"
   ]
  },
  {
   "cell_type": "code",
   "execution_count": 176,
   "id": "2cfb8eac",
   "metadata": {},
   "outputs": [],
   "source": [
    "Variant=[]\n",
    "for i in var:\n",
    "    Variant.append(i.text)"
   ]
  },
  {
   "cell_type": "code",
   "execution_count": 177,
   "id": "258509d7",
   "metadata": {},
   "outputs": [
    {
     "data": {
      "text/plain": [
       "1900"
      ]
     },
     "execution_count": 177,
     "metadata": {},
     "output_type": "execute_result"
    }
   ],
   "source": [
    "km=driver.find_elements_by_xpath('//div[@class=\"truncate dotlist\"]/span[1]')\n",
    "len(km)"
   ]
  },
  {
   "cell_type": "code",
   "execution_count": 178,
   "id": "39e197a4",
   "metadata": {},
   "outputs": [],
   "source": [
    "Driver_KM=[]\n",
    "for i in km:\n",
    "    Driver_KM.append(i.text)"
   ]
  },
  {
   "cell_type": "code",
   "execution_count": 179,
   "id": "9f1c5726",
   "metadata": {},
   "outputs": [
    {
     "data": {
      "text/plain": [
       "1900"
      ]
     },
     "execution_count": 179,
     "metadata": {},
     "output_type": "execute_result"
    }
   ],
   "source": [
    "fuel=driver.find_elements_by_xpath('//div[@class=\"truncate dotlist\"]/span[2]')\n",
    "len(fuel)"
   ]
  },
  {
   "cell_type": "code",
   "execution_count": 180,
   "id": "9906b5ee",
   "metadata": {
    "scrolled": true
   },
   "outputs": [],
   "source": [
    "Fuel=[]\n",
    "for i in fuel:\n",
    "    Fuel.append(i.text)"
   ]
  },
  {
   "cell_type": "code",
   "execution_count": 181,
   "id": "37ee1c90",
   "metadata": {},
   "outputs": [
    {
     "data": {
      "text/plain": [
       "1900"
      ]
     },
     "execution_count": 181,
     "metadata": {},
     "output_type": "execute_result"
    }
   ],
   "source": [
    "trans=driver.find_elements_by_xpath('//div[@class=\"truncate dotlist\"]/span[3]')\n",
    "len(trans)"
   ]
  },
  {
   "cell_type": "code",
   "execution_count": 182,
   "id": "655f7ac0",
   "metadata": {
    "scrolled": true
   },
   "outputs": [],
   "source": [
    "Transmission=[]\n",
    "for i in trans:\n",
    "    Transmission.append(i.text)"
   ]
  },
  {
   "cell_type": "code",
   "execution_count": 183,
   "id": "aa5c9c67",
   "metadata": {},
   "outputs": [
    {
     "data": {
      "text/plain": [
       "1900"
      ]
     },
     "execution_count": 183,
     "metadata": {},
     "output_type": "execute_result"
    }
   ],
   "source": [
    "price=driver.find_elements_by_xpath('//div[@class=\"gsc_col-xs-5 text-right price\"]/span')\n",
    "len(price)"
   ]
  },
  {
   "cell_type": "code",
   "execution_count": 184,
   "id": "f0401545",
   "metadata": {},
   "outputs": [],
   "source": [
    "Price=[]\n",
    "for i in price:\n",
    "    Price.append(i.text)"
   ]
  },
  {
   "cell_type": "code",
   "execution_count": 185,
   "id": "2da11fde",
   "metadata": {},
   "outputs": [
    {
     "data": {
      "text/plain": [
       "(1900, 1900, 1900, 1900, 1900, 1900)"
      ]
     },
     "execution_count": 185,
     "metadata": {},
     "output_type": "execute_result"
    }
   ],
   "source": [
    "len(brand_titles),len(Variant),len(Driver_KM),len(Fuel),len(Transmission),len(Price)"
   ]
  },
  {
   "cell_type": "code",
   "execution_count": 186,
   "id": "58b8b7ff",
   "metadata": {},
   "outputs": [
    {
     "data": {
      "text/html": [
       "<div>\n",
       "<style scoped>\n",
       "    .dataframe tbody tr th:only-of-type {\n",
       "        vertical-align: middle;\n",
       "    }\n",
       "\n",
       "    .dataframe tbody tr th {\n",
       "        vertical-align: top;\n",
       "    }\n",
       "\n",
       "    .dataframe thead th {\n",
       "        text-align: right;\n",
       "    }\n",
       "</style>\n",
       "<table border=\"1\" class=\"dataframe\">\n",
       "  <thead>\n",
       "    <tr style=\"text-align: right;\">\n",
       "      <th></th>\n",
       "      <th>brand_titles</th>\n",
       "      <th>Variant</th>\n",
       "      <th>Driver_KM</th>\n",
       "      <th>Fuel</th>\n",
       "      <th>Transmission</th>\n",
       "      <th>Location</th>\n",
       "      <th>Price</th>\n",
       "    </tr>\n",
       "  </thead>\n",
       "  <tbody>\n",
       "    <tr>\n",
       "      <th>0</th>\n",
       "      <td>2014 Honda Brio</td>\n",
       "      <td>S MT</td>\n",
       "      <td>19,311 kms</td>\n",
       "      <td>Petrol</td>\n",
       "      <td>Manual</td>\n",
       "      <td>New Delhi</td>\n",
       "      <td>3,42,000</td>\n",
       "    </tr>\n",
       "    <tr>\n",
       "      <th>1</th>\n",
       "      <td>2013 Maruti Swift</td>\n",
       "      <td>LXI</td>\n",
       "      <td>26,531 kms</td>\n",
       "      <td>Petrol</td>\n",
       "      <td>Manual</td>\n",
       "      <td>New Delhi</td>\n",
       "      <td>2,84,000</td>\n",
       "    </tr>\n",
       "    <tr>\n",
       "      <th>2</th>\n",
       "      <td>2018 Hyundai i20</td>\n",
       "      <td>1.2 Asta</td>\n",
       "      <td>28,451 kms</td>\n",
       "      <td>Petrol</td>\n",
       "      <td>Manual</td>\n",
       "      <td>New Delhi</td>\n",
       "      <td>6,57,000</td>\n",
       "    </tr>\n",
       "    <tr>\n",
       "      <th>3</th>\n",
       "      <td>2014 Hyundai EON</td>\n",
       "      <td>Era Plus</td>\n",
       "      <td>49,091 kms</td>\n",
       "      <td>Petrol</td>\n",
       "      <td>Manual</td>\n",
       "      <td>New Delhi</td>\n",
       "      <td>2,36,000</td>\n",
       "    </tr>\n",
       "    <tr>\n",
       "      <th>4</th>\n",
       "      <td>2021 Nissan Kicks</td>\n",
       "      <td>1.5 XV</td>\n",
       "      <td>8,901 kms</td>\n",
       "      <td>Petrol</td>\n",
       "      <td>Manual</td>\n",
       "      <td>New Delhi</td>\n",
       "      <td>10,22,000</td>\n",
       "    </tr>\n",
       "    <tr>\n",
       "      <th>...</th>\n",
       "      <td>...</td>\n",
       "      <td>...</td>\n",
       "      <td>...</td>\n",
       "      <td>...</td>\n",
       "      <td>...</td>\n",
       "      <td>...</td>\n",
       "      <td>...</td>\n",
       "    </tr>\n",
       "    <tr>\n",
       "      <th>1895</th>\n",
       "      <td>2016 Maruti Vitara Brezza</td>\n",
       "      <td>ZDi Plus</td>\n",
       "      <td>43,000 kms</td>\n",
       "      <td>Diesel</td>\n",
       "      <td>Manual</td>\n",
       "      <td>New Delhi</td>\n",
       "      <td>7,00,000</td>\n",
       "    </tr>\n",
       "    <tr>\n",
       "      <th>1896</th>\n",
       "      <td>2017 Maruti Swift Dzire</td>\n",
       "      <td>ZDI Plus</td>\n",
       "      <td>41,000 kms</td>\n",
       "      <td>Diesel</td>\n",
       "      <td>Manual</td>\n",
       "      <td>New Delhi</td>\n",
       "      <td>6,65,000</td>\n",
       "    </tr>\n",
       "    <tr>\n",
       "      <th>1897</th>\n",
       "      <td>2010 Honda City</td>\n",
       "      <td>S</td>\n",
       "      <td>1,06,000 kms</td>\n",
       "      <td>Petrol</td>\n",
       "      <td>Manual</td>\n",
       "      <td>New Delhi</td>\n",
       "      <td>2,95,000</td>\n",
       "    </tr>\n",
       "    <tr>\n",
       "      <th>1898</th>\n",
       "      <td>2013 Honda Amaze</td>\n",
       "      <td>S i-Vtech</td>\n",
       "      <td>80,000 kms</td>\n",
       "      <td>Petrol</td>\n",
       "      <td>Manual</td>\n",
       "      <td>New Delhi</td>\n",
       "      <td>3,75,000</td>\n",
       "    </tr>\n",
       "    <tr>\n",
       "      <th>1899</th>\n",
       "      <td>2015 Honda Amaze</td>\n",
       "      <td>S i-Vtech</td>\n",
       "      <td>77,133 kms</td>\n",
       "      <td>Petrol</td>\n",
       "      <td>Manual</td>\n",
       "      <td>New Delhi</td>\n",
       "      <td>4,50,000</td>\n",
       "    </tr>\n",
       "  </tbody>\n",
       "</table>\n",
       "<p>1900 rows × 7 columns</p>\n",
       "</div>"
      ],
      "text/plain": [
       "                   brand_titles    Variant     Driver_KM    Fuel Transmission  \\\n",
       "0               2014 Honda Brio       S MT    19,311 kms  Petrol       Manual   \n",
       "1             2013 Maruti Swift        LXI    26,531 kms  Petrol       Manual   \n",
       "2              2018 Hyundai i20   1.2 Asta    28,451 kms  Petrol       Manual   \n",
       "3              2014 Hyundai EON   Era Plus    49,091 kms  Petrol       Manual   \n",
       "4             2021 Nissan Kicks     1.5 XV     8,901 kms  Petrol       Manual   \n",
       "...                         ...        ...           ...     ...          ...   \n",
       "1895  2016 Maruti Vitara Brezza   ZDi Plus    43,000 kms  Diesel       Manual   \n",
       "1896    2017 Maruti Swift Dzire   ZDI Plus    41,000 kms  Diesel       Manual   \n",
       "1897            2010 Honda City          S  1,06,000 kms  Petrol       Manual   \n",
       "1898           2013 Honda Amaze  S i-Vtech    80,000 kms  Petrol       Manual   \n",
       "1899           2015 Honda Amaze  S i-Vtech    77,133 kms  Petrol       Manual   \n",
       "\n",
       "       Location      Price  \n",
       "0     New Delhi   3,42,000  \n",
       "1     New Delhi   2,84,000  \n",
       "2     New Delhi   6,57,000  \n",
       "3     New Delhi   2,36,000  \n",
       "4     New Delhi  10,22,000  \n",
       "...         ...        ...  \n",
       "1895  New Delhi   7,00,000  \n",
       "1896  New Delhi   6,65,000  \n",
       "1897  New Delhi   2,95,000  \n",
       "1898  New Delhi   3,75,000  \n",
       "1899  New Delhi   4,50,000  \n",
       "\n",
       "[1900 rows x 7 columns]"
      ]
     },
     "execution_count": 186,
     "metadata": {},
     "output_type": "execute_result"
    }
   ],
   "source": [
    "Product2=pd.DataFrame()\n",
    "Product2['brand_titles']= brand_titles\n",
    "Product2['Variant']= Variant\n",
    "Product2['Driver_KM']= Driver_KM\n",
    "Product2['Fuel']= Fuel\n",
    "Product2['Transmission']=Transmission\n",
    "Product2['Location']=\"New Delhi\"\n",
    "Product2['Price']=Price\n",
    "Product2"
   ]
  },
  {
   "cell_type": "code",
   "execution_count": 187,
   "id": "b322a9d6",
   "metadata": {},
   "outputs": [],
   "source": [
    "Product2.to_csv('Data_Used_Cars1.csv',index = False)"
   ]
  },
  {
   "cell_type": "code",
   "execution_count": null,
   "id": "e3b851f7",
   "metadata": {},
   "outputs": [],
   "source": []
  }
 ],
 "metadata": {
  "kernelspec": {
   "display_name": "Python 3",
   "language": "python",
   "name": "python3"
  },
  "language_info": {
   "codemirror_mode": {
    "name": "ipython",
    "version": 3
   },
   "file_extension": ".py",
   "mimetype": "text/x-python",
   "name": "python",
   "nbconvert_exporter": "python",
   "pygments_lexer": "ipython3",
   "version": "3.8.8"
  }
 },
 "nbformat": 4,
 "nbformat_minor": 5
}
